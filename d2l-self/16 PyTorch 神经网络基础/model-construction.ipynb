{
 "cells": [
  {
   "cell_type": "markdown",
   "id": "b69be076",
   "metadata": {},
   "source": [
    "## 层与块\n",
    "首先，我们回顾一下多层感知机"
   ]
  },
  {
   "cell_type": "code",
   "execution_count": 6,
   "id": "b49763fc",
   "metadata": {},
   "outputs": [],
   "source": [
    "import torch\n",
    "from torch import nn\n",
    "from torch.nn import functional as F"
   ]
  },
  {
   "cell_type": "code",
   "execution_count": 7,
   "id": "fa9cf0f7",
   "metadata": {},
   "outputs": [
    {
     "data": {
      "text/plain": [
       "tensor([[ 0.3390, -0.0053,  0.2116, -0.3555,  0.3102,  0.0054, -0.0433,  0.0459,\n",
       "          0.0014, -0.0559],\n",
       "        [ 0.1975, -0.2844, -0.1418, -0.2668,  0.4706,  0.2997, -0.0676, -0.0683,\n",
       "          0.4989, -0.1652]], grad_fn=<AddmmBackward0>)"
      ]
     },
     "execution_count": 7,
     "metadata": {},
     "output_type": "execute_result"
    }
   ],
   "source": [
    "net = nn.Sequential(nn.Linear(20,256),nn.ReLU(),nn.Linear(256,10))\n",
    "X = torch.randn(2,20)\n",
    "net(X)"
   ]
  },
  {
   "cell_type": "markdown",
   "id": "a537eb0d",
   "metadata": {},
   "source": [
    "## 自定义块"
   ]
  },
  {
   "cell_type": "code",
   "execution_count": 8,
   "id": "1df8f8b0",
   "metadata": {},
   "outputs": [],
   "source": [
    "class MLP(nn.Module):\n",
    "    def __init__(self):\n",
    "        super().__init__()\n",
    "        self.hidden = nn.Linear(20,256)\n",
    "        self.out = nn.Linear(256,10)\n",
    "    def forward(self,X):\n",
    "        return self.out(F.relu(self.hidden(X)));"
   ]
  },
  {
   "cell_type": "markdown",
   "id": "946b03b0",
   "metadata": {},
   "source": [
    "## 实例化多层感知机的层，然后每次调用正向传播函数时调用这些层"
   ]
  },
  {
   "cell_type": "code",
   "execution_count": 9,
   "id": "0d4ca186",
   "metadata": {},
   "outputs": [
    {
     "data": {
      "text/plain": [
       "tensor([[-0.1415, -0.1629,  0.1308,  0.0994, -0.1630,  0.0100, -0.0199, -0.3710,\n",
       "          0.2443,  0.0805],\n",
       "        [ 0.0833, -0.0913,  0.2660, -0.1360,  0.1339,  0.1052, -0.0967, -0.5183,\n",
       "         -0.1900, -0.2999]], grad_fn=<AddmmBackward0>)"
      ]
     },
     "execution_count": 9,
     "metadata": {},
     "output_type": "execute_result"
    }
   ],
   "source": [
    "net = MLP()\n",
    "net(X)"
   ]
  },
  {
   "cell_type": "markdown",
   "id": "75a0b805",
   "metadata": {},
   "source": [
    "## 顺序块"
   ]
  },
  {
   "cell_type": "code",
   "execution_count": 13,
   "id": "77c0600c",
   "metadata": {},
   "outputs": [
    {
     "data": {
      "text/plain": [
       "tensor([[-0.0117,  0.0682,  0.2295,  0.0626, -0.0473, -0.0626,  0.0010, -0.0131,\n",
       "         -0.3843, -0.1101],\n",
       "        [ 0.0746,  0.0359,  0.0613, -0.2553,  0.0214, -0.0585, -0.2741, -0.5369,\n",
       "          0.1368, -0.1335]], grad_fn=<AddmmBackward0>)"
      ]
     },
     "execution_count": 13,
     "metadata": {},
     "output_type": "execute_result"
    }
   ],
   "source": [
    "class MySequential(nn.Module):\n",
    "    def __init__(self,*args):\n",
    "        super().__init__()\n",
    "        for block in args:\n",
    "            self._modules[block] = block\n",
    "    def forward(self,X):\n",
    "        for block in self._modules.values():\n",
    "            X = block(X)\n",
    "        return X\n",
    "net = MySequential(nn.Linear(20,256),nn.ReLU(),nn.Linear(256,10))\n",
    "net(X)"
   ]
  },
  {
   "cell_type": "markdown",
   "id": "b33db7ef",
   "metadata": {},
   "source": [
    "## 在正向传播过程中执行代码"
   ]
  },
  {
   "cell_type": "code",
   "execution_count": 17,
   "id": "65cb7f94",
   "metadata": {},
   "outputs": [
    {
     "data": {
      "text/plain": [
       "tensor(-0.0631, grad_fn=<SumBackward0>)"
      ]
     },
     "execution_count": 17,
     "metadata": {},
     "output_type": "execute_result"
    }
   ],
   "source": [
    "class FixedHiddenMLP(nn.Module):\n",
    "    def __init__(self):\n",
    "        super().__init__();\n",
    "        self.rand_weight = torch.rand((20,20),requires_grad = False)\n",
    "        self.linear = nn.Linear(20,20)\n",
    "    def forward(self,X):\n",
    "        X = self.linear(X);\n",
    "        X = F.relu(torch.mm(X,self.rand_weight)+1)\n",
    "        X = self.linear(X);\n",
    "        while X.abs().sum()>1:\n",
    "            X = X/2\n",
    "        return X.sum()\n",
    "net = FixedHiddenMLP()\n",
    "net(X)"
   ]
  },
  {
   "cell_type": "markdown",
   "id": "3390e248",
   "metadata": {},
   "source": [
    "## 混合搭配各种组合块的方法"
   ]
  },
  {
   "cell_type": "code",
   "execution_count": 19,
   "id": "16c37883",
   "metadata": {},
   "outputs": [
    {
     "data": {
      "text/plain": [
       "tensor([[-0.1077,  0.3021, -0.2206,  0.0546, -0.0242, -0.0605,  0.0357, -0.0237,\n",
       "         -0.1163,  0.0116,  0.3313, -0.0357, -0.0277,  0.0314,  0.0106,  0.0848],\n",
       "        [-0.1348,  0.1672, -0.1882,  0.0621,  0.1433, -0.1572,  0.0756, -0.0304,\n",
       "         -0.1552,  0.0672,  0.1254, -0.1044, -0.1078, -0.0255,  0.0338,  0.0593]],\n",
       "       grad_fn=<AddmmBackward0>)"
      ]
     },
     "execution_count": 19,
     "metadata": {},
     "output_type": "execute_result"
    }
   ],
   "source": [
    "class NestMLP(nn.Module):\n",
    "    def __init__(self):\n",
    "        super().__init__()\n",
    "        self.net = nn.Sequential(nn.Linear(20,64),nn.ReLU(),\n",
    "                                nn.Linear(64,32),nn.ReLU())\n",
    "        self.linear = nn.Linear(32,16)\n",
    "    def forward(self,X):\n",
    "        return self.linear(self.net(X))\n",
    "chimera = NestMLP()\n",
    "chimera(X)"
   ]
  },
  {
   "cell_type": "code",
   "execution_count": null,
   "id": "e8308730",
   "metadata": {},
   "outputs": [],
   "source": []
  }
 ],
 "metadata": {
  "kernelspec": {
   "display_name": "Python 3 (ipykernel)",
   "language": "python",
   "name": "python3"
  },
  "language_info": {
   "codemirror_mode": {
    "name": "ipython",
    "version": 3
   },
   "file_extension": ".py",
   "mimetype": "text/x-python",
   "name": "python",
   "nbconvert_exporter": "python",
   "pygments_lexer": "ipython3",
   "version": "3.8.12"
  }
 },
 "nbformat": 4,
 "nbformat_minor": 5
}
