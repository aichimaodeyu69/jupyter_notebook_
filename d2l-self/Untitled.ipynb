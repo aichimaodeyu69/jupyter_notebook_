{
 "cells": [
  {
   "cell_type": "code",
   "execution_count": 2,
   "id": "834e6073",
   "metadata": {},
   "outputs": [],
   "source": [
    "%matplotlib inline\n",
    "import torch\n",
    "from d2l import torch as d2l\n",
    "from torch.utils import data"
   ]
  },
  {
   "cell_type": "code",
   "execution_count": 3,
   "id": "292604c7",
   "metadata": {},
   "outputs": [],
   "source": [
    "true_w = torch.tensor([-2,3.4])\n",
    "true_b = 4.2\n",
    "features,labels = d2l.synthetic_data(true_w,true_b,1000)"
   ]
  },
  {
   "cell_type": "code",
   "execution_count": 4,
   "id": "c9d074d2",
   "metadata": {},
   "outputs": [
    {
     "data": {
      "text/plain": [
       "[tensor([[-0.1451, -1.4381],\n",
       "         [-0.8492,  0.2883],\n",
       "         [ 0.5640,  0.8992],\n",
       "         [ 1.0437, -0.3681],\n",
       "         [ 0.0109,  0.0050],\n",
       "         [ 0.4533,  0.5464],\n",
       "         [ 1.0573,  0.0306],\n",
       "         [-0.8334,  2.2048],\n",
       "         [-1.1892,  0.6469],\n",
       "         [-0.0365, -0.5609]]),\n",
       " tensor([[-0.3876],\n",
       "         [ 6.8837],\n",
       "         [ 6.1401],\n",
       "         [ 0.8637],\n",
       "         [ 4.1953],\n",
       "         [ 5.1638],\n",
       "         [ 2.1825],\n",
       "         [13.3565],\n",
       "         [ 8.7706],\n",
       "         [ 2.3600]])]"
      ]
     },
     "execution_count": 4,
     "metadata": {},
     "output_type": "execute_result"
    }
   ],
   "source": [
    "def load_array(data_arrays,batch_size,is_train=True):\n",
    "    dataset = data.TensorDataset(*data_arrays)\n",
    "    return data.DataLoader(dataset,batch_size,shuffle = is_train)\n",
    "batch_size = 10\n",
    "data_iter = load_array((features,labels),batch_size,True)\n",
    "next(iter(data_iter))"
   ]
  },
  {
   "cell_type": "code",
   "execution_count": 6,
   "id": "67730397",
   "metadata": {},
   "outputs": [],
   "source": [
    "from torch import nn\n",
    "net = nn.Sequential(nn.Linear(2,1))"
   ]
  },
  {
   "cell_type": "code",
   "execution_count": 8,
   "id": "92b9d5c6",
   "metadata": {},
   "outputs": [
    {
     "data": {
      "text/plain": [
       "tensor([0.])"
      ]
     },
     "execution_count": 8,
     "metadata": {},
     "output_type": "execute_result"
    }
   ],
   "source": [
    "net[0].weight.data.normal_(0,0.01)\n",
    "net[0].bias.data.fill_(0)"
   ]
  },
  {
   "cell_type": "code",
   "execution_count": 9,
   "id": "e85b6c08",
   "metadata": {},
   "outputs": [],
   "source": [
    "loss = nn.MSELoss()"
   ]
  },
  {
   "cell_type": "code",
   "execution_count": 10,
   "id": "6b33eeef",
   "metadata": {},
   "outputs": [],
   "source": [
    "trainer = torch.optim.SGD(net.parameters(),lr =0.03)"
   ]
  },
  {
   "cell_type": "code",
   "execution_count": 11,
   "id": "bb29d71d",
   "metadata": {},
   "outputs": [
    {
     "name": "stdout",
     "output_type": "stream",
     "text": [
      "epoch 1,loss0.000348\n",
      "epoch 2,loss0.000093\n",
      "epoch 3,loss0.000094\n"
     ]
    }
   ],
   "source": [
    "num_epochs = 3\n",
    "for epoch in range(num_epochs):\n",
    "    for X,y in data_iter:\n",
    "        l = loss(net(X),y)\n",
    "        trainer.zero_grad()\n",
    "        l.backward()\n",
    "        trainer.step()\n",
    "    l = loss(net(features),labels)\n",
    "    print(f\"epoch {epoch+1},loss{l:f}\")"
   ]
  },
  {
   "cell_type": "code",
   "execution_count": null,
   "id": "404c6202",
   "metadata": {},
   "outputs": [],
   "source": []
  }
 ],
 "metadata": {
  "kernelspec": {
   "display_name": "Python 3 (ipykernel)",
   "language": "python",
   "name": "python3"
  },
  "language_info": {
   "codemirror_mode": {
    "name": "ipython",
    "version": 3
   },
   "file_extension": ".py",
   "mimetype": "text/x-python",
   "name": "python",
   "nbconvert_exporter": "python",
   "pygments_lexer": "ipython3",
   "version": "3.8.12"
  }
 },
 "nbformat": 4,
 "nbformat_minor": 5
}
