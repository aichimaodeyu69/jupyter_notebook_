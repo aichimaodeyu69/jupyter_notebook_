{
 "cells": [
  {
   "cell_type": "code",
   "execution_count": 1,
   "metadata": {
    "_cell_guid": "b1076dfc-b9ad-4769-8c92-a6c4dae69d19",
    "_uuid": "8f2839f25d086af736a60e9eeb907d3b93b6e0e5",
    "execution": {
     "iopub.execute_input": "2022-10-08T13:17:55.415103Z",
     "iopub.status.busy": "2022-10-08T13:17:55.414213Z",
     "iopub.status.idle": "2022-10-08T13:18:08.050456Z",
     "shell.execute_reply": "2022-10-08T13:18:08.049180Z",
     "shell.execute_reply.started": "2022-10-08T13:17:55.415001Z"
    }
   },
   "outputs": [
    {
     "name": "stdout",
     "output_type": "stream",
     "text": [
      "Collecting ttach\n",
      "  Downloading ttach-0.0.3-py3-none-any.whl (9.8 kB)\n",
      "Installing collected packages: ttach\n",
      "Successfully installed ttach-0.0.3\n",
      "\u001b[33mWARNING: Running pip as the 'root' user can result in broken permissions and conflicting behaviour with the system package manager. It is recommended to use a virtual environment instead: https://pip.pypa.io/warnings/venv\u001b[0m\u001b[33m\n",
      "\u001b[0mNote: you may need to restart the kernel to use updated packages.\n"
     ]
    }
   ],
   "source": [
    "pip install ttach #Test Time Augmentation"
   ]
  },
  {
   "cell_type": "code",
   "execution_count": 2,
   "metadata": {
    "execution": {
     "iopub.execute_input": "2022-10-08T13:18:08.053240Z",
     "iopub.status.busy": "2022-10-08T13:18:08.052767Z",
     "iopub.status.idle": "2022-10-08T13:18:09.892158Z",
     "shell.execute_reply": "2022-10-08T13:18:09.891169Z",
     "shell.execute_reply.started": "2022-10-08T13:18:08.053195Z"
    }
   },
   "outputs": [],
   "source": [
    "import torch\n",
    "import torch.nn as nn\n",
    "import pandas as pd\n",
    "import numpy as np\n",
    "from torch.utils.data import Dataset, DataLoader\n",
    "from torchvision import transforms\n",
    "from PIL import Image\n",
    "import ttach as tta\n",
    "import os\n",
    "import matplotlib.pyplot as plt\n",
    "import torchvision.models as models\n",
    "# This is for the progress bar.\n",
    "from tqdm import tqdm"
   ]
  },
  {
   "cell_type": "code",
   "execution_count": 3,
   "metadata": {
    "execution": {
     "iopub.execute_input": "2022-10-08T13:18:09.895199Z",
     "iopub.status.busy": "2022-10-08T13:18:09.894723Z",
     "iopub.status.idle": "2022-10-08T13:18:09.956478Z",
     "shell.execute_reply": "2022-10-08T13:18:09.955623Z",
     "shell.execute_reply.started": "2022-10-08T13:18:09.895171Z"
    }
   },
   "outputs": [
    {
     "data": {
      "text/html": [
       "<div>\n",
       "<style scoped>\n",
       "    .dataframe tbody tr th:only-of-type {\n",
       "        vertical-align: middle;\n",
       "    }\n",
       "\n",
       "    .dataframe tbody tr th {\n",
       "        vertical-align: top;\n",
       "    }\n",
       "\n",
       "    .dataframe thead th {\n",
       "        text-align: right;\n",
       "    }\n",
       "</style>\n",
       "<table border=\"1\" class=\"dataframe\">\n",
       "  <thead>\n",
       "    <tr style=\"text-align: right;\">\n",
       "      <th></th>\n",
       "      <th>image</th>\n",
       "      <th>label</th>\n",
       "    </tr>\n",
       "  </thead>\n",
       "  <tbody>\n",
       "    <tr>\n",
       "      <th>0</th>\n",
       "      <td>images/0.jpg</td>\n",
       "      <td>maclura_pomifera</td>\n",
       "    </tr>\n",
       "    <tr>\n",
       "      <th>1</th>\n",
       "      <td>images/1.jpg</td>\n",
       "      <td>maclura_pomifera</td>\n",
       "    </tr>\n",
       "    <tr>\n",
       "      <th>2</th>\n",
       "      <td>images/2.jpg</td>\n",
       "      <td>maclura_pomifera</td>\n",
       "    </tr>\n",
       "  </tbody>\n",
       "</table>\n",
       "</div>"
      ],
      "text/plain": [
       "          image             label\n",
       "0  images/0.jpg  maclura_pomifera\n",
       "1  images/1.jpg  maclura_pomifera\n",
       "2  images/2.jpg  maclura_pomifera"
      ]
     },
     "execution_count": 3,
     "metadata": {},
     "output_type": "execute_result"
    }
   ],
   "source": [
    "# 看看label文件长啥样\n",
    "labels_dataframe = pd.read_csv('../input/classify-leaves/train.csv')\n",
    "labels_dataframe.head(3)"
   ]
  },
  {
   "cell_type": "code",
   "execution_count": 4,
   "metadata": {
    "execution": {
     "iopub.execute_input": "2022-10-08T13:18:09.959637Z",
     "iopub.status.busy": "2022-10-08T13:18:09.959192Z",
     "iopub.status.idle": "2022-10-08T13:18:09.970638Z",
     "shell.execute_reply": "2022-10-08T13:18:09.969753Z",
     "shell.execute_reply.started": "2022-10-08T13:18:09.959591Z"
    }
   },
   "outputs": [
    {
     "name": "stdout",
     "output_type": "stream",
     "text": [
      "176\n"
     ]
    }
   ],
   "source": [
    "# 提取出lable并统计类别个数 排序\n",
    "leaves_labels = sorted(list(set(labels_dataframe['label']))) #set删掉重复的 sort排序\n",
    "n_classes = len(leaves_labels) #类别长度\n",
    "print(n_classes) "
   ]
  },
  {
   "cell_type": "code",
   "execution_count": 5,
   "metadata": {
    "execution": {
     "iopub.execute_input": "2022-10-08T13:18:09.972853Z",
     "iopub.status.busy": "2022-10-08T13:18:09.972343Z",
     "iopub.status.idle": "2022-10-08T13:18:09.979546Z",
     "shell.execute_reply": "2022-10-08T13:18:09.978586Z",
     "shell.execute_reply.started": "2022-10-08T13:18:09.972819Z"
    }
   },
   "outputs": [],
   "source": [
    "# 把label转成对应的数字\n",
    "class_to_num = dict(zip(leaves_labels, range(n_classes)))\n",
    "# 再转换回来，方便最后预测的时候使用\n",
    "num_to_class = {v : k for k, v in class_to_num.items()}"
   ]
  },
  {
   "cell_type": "code",
   "execution_count": 6,
   "metadata": {
    "execution": {
     "iopub.execute_input": "2022-10-08T13:18:09.981913Z",
     "iopub.status.busy": "2022-10-08T13:18:09.981625Z",
     "iopub.status.idle": "2022-10-08T13:18:10.001266Z",
     "shell.execute_reply": "2022-10-08T13:18:10.000057Z",
     "shell.execute_reply.started": "2022-10-08T13:18:09.981888Z"
    }
   },
   "outputs": [],
   "source": [
    "# 继承pytorch的dataset，创建自己的Data\n",
    "class LeavesData(Dataset):\n",
    "    def __init__(self, csv_path, file_path, mode='train', valid_ratio=0.2, resize_height=256, resize_width=256):\n",
    "        \"\"\"\n",
    "        Args:\n",
    "            csv_path (string): csv 文件路径\n",
    "            img_path (string): 图像文件所在路径\n",
    "            mode (string): 训练模式还是测试模式\n",
    "            valid_ratio (float): 验证集比例\n",
    "        \"\"\"\n",
    "        \n",
    "        # 需要调整后的照片尺寸，我这里每张图片的大小尺寸不一致#\n",
    "        self.resize_height = resize_height\n",
    "        self.resize_width = resize_width\n",
    "\n",
    "        self.file_path = file_path\n",
    "        self.mode = mode\n",
    "\n",
    "        # 读取 csv 文件\n",
    "        # 利用pandas读取csv文件\n",
    "        self.data_info = pd.read_csv(csv_path, header=None)  #header=None是去掉表头部分\n",
    "        # 计算 length                                        #但是会把表头放进列表\n",
    "        self.data_len = len(self.data_info.index) - 1       #所以需要-1\n",
    "        self.train_len = int(self.data_len * (1 - valid_ratio))\n",
    "        \n",
    "        if mode == 'train':\n",
    "            # 第一列包含图像文件的名称   例如images/0.jpg\n",
    "            self.train_image = np.asarray(self.data_info.iloc[1:self.train_len, 0])  #self.data_info.iloc[1:,0]表示读取第一列，从第二行开始到train_len\n",
    "            # 第二列是图像的 label       例如maclura_pomifera  （叶子种类）\n",
    "            self.train_label = np.asarray(self.data_info.iloc[1:self.train_len, 1])\n",
    "            self.image_arr = self.train_image \n",
    "            self.label_arr = self.train_label\n",
    "        elif mode == 'valid':  #验证集可以防止过拟合 观察拟合结果\n",
    "            self.valid_image = np.asarray(self.data_info.iloc[self.train_len:, 0])  \n",
    "            self.valid_label = np.asarray(self.data_info.iloc[self.train_len:, 1])\n",
    "            self.image_arr = self.valid_image\n",
    "            self.label_arr = self.valid_label\n",
    "        elif mode == 'test':\n",
    "            self.test_image = np.asarray(self.data_info.iloc[1:, 0])\n",
    "            self.image_arr = self.test_image\n",
    "            \n",
    "        self.real_len = len(self.image_arr)\n",
    "\n",
    "        print('Finished reading the {} set of Leaves Dataset ({} samples found)'\n",
    "              .format(mode, self.real_len))\n",
    "\n",
    "    def __getitem__(self, index):\n",
    "        # 从 image_arr中得到索引对应的文件名\n",
    "        single_image_name = self.image_arr[index]  #self.image_arr[0]='images/0.jpg'\n",
    "\n",
    "        # 读取图像文件\n",
    "        img_as_img = Image.open(self.file_path + single_image_name)\n",
    "\n",
    "        #如果需要将RGB三通道的图片转换成灰度图片可参考下面两行\n",
    "#         if img_as_img.mode != 'L':\n",
    "#             img_as_img = img_as_img.convert('L')\n",
    "\n",
    "        #设置好需要转换的变量，还可以包括一系列的nomarlize等等操作\n",
    "        if self.mode == 'train':                           #下面是图像增广\n",
    "            transform = transforms.Compose([\n",
    "                #transforms.Resize(300),\n",
    "                #transforms.CenterCrop(224),\n",
    "                transforms.Resize(224),\n",
    "                transforms.RandomHorizontalFlip(p=0.5),   #随机水平翻转\n",
    "                transforms.RandomVerticalFlip(p=0.5),     #除了水平竖直反转之外其他的处理方法貌似都会降低acc\n",
    "                #transforms.RandomResizedCrop((224, 224), scale=(0.7, 1)),\n",
    "                #transforms.RandomCrop((60, 120)), # 随机剪裁\n",
    "                # transforms.ColorJitter(0.3, 0.3, 0.2), # 修改亮度、对比度和饱和度\n",
    "                #transforms.RandomRotation(180), # 依degrees 随机旋转一定角度   10\n",
    "                transforms.ToTensor(),\n",
    "                transforms.Normalize([0.485, 0.456, 0.406], [0.229, 0.224, 0.225])\n",
    "                # Normalize(mean, std)按通道进行标准化，即先减均值，再除以标准差std\n",
    "                 ])\n",
    "        else:\n",
    "            # valid和test不做数据增强  只需要裁剪变成张量Tensor\n",
    "            transform = transforms.Compose([\n",
    "                transforms.Resize(224),\n",
    "                #transforms.CenterCrop(224),\n",
    "                transforms.ToTensor(),\n",
    "                transforms.Normalize([0.485, 0.456, 0.406], [0.229, 0.224, 0.225])\n",
    "            ])\n",
    "        \n",
    "        img_as_img = transform(img_as_img)  #图像处理\n",
    "        \n",
    "        if self.mode == 'test':\n",
    "            return img_as_img  #测试集只需要返回图像\n",
    "        else: #训练以及测试有效性\n",
    "            # 得到图像的 string label\n",
    "            label = self.label_arr[index]   #例子self.label_arr[0] = maclura_pomifera\n",
    "            # number label\n",
    "            number_label = class_to_num[label] #查阅字典  将类型转换为数字\n",
    "\n",
    "            return img_as_img, number_label  #返回每一个index对应的图片数据和对应的label\n",
    "\n",
    "    def __len__(self):\n",
    "         return self.real_len  #self.real_len = len(self.image_arr) 返回的是训练/验证/测试/图像的数量"
   ]
  },
  {
   "cell_type": "code",
   "execution_count": 7,
   "metadata": {
    "execution": {
     "iopub.execute_input": "2022-10-08T13:18:10.003306Z",
     "iopub.status.busy": "2022-10-08T13:18:10.002961Z",
     "iopub.status.idle": "2022-10-08T13:18:10.057778Z",
     "shell.execute_reply": "2022-10-08T13:18:10.056780Z",
     "shell.execute_reply.started": "2022-10-08T13:18:10.003272Z"
    }
   },
   "outputs": [
    {
     "name": "stdout",
     "output_type": "stream",
     "text": [
      "Finished reading the train set of Leaves Dataset (14681 samples found)\n",
      "Finished reading the valid set of Leaves Dataset (3672 samples found)\n",
      "Finished reading the test set of Leaves Dataset (8800 samples found)\n",
      "<__main__.LeavesData object at 0x7f123442f5d0>\n",
      "<__main__.LeavesData object at 0x7f123442f610>\n",
      "<__main__.LeavesData object at 0x7f1233a137d0>\n"
     ]
    }
   ],
   "source": [
    "#设置文件路径并得到数据集\n",
    "train_path = '../input/classify-leaves/train.csv'\n",
    "test_path = '../input/classify-leaves/test.csv'\n",
    "# csv文件中已经images的路径了，因此这里只到上一级目录\n",
    "img_path = '../input/classify-leaves/'\n",
    "\n",
    "train_dataset = LeavesData(train_path, img_path, mode='train')\n",
    "val_dataset = LeavesData(train_path, img_path, mode='valid')\n",
    "test_dataset = LeavesData(test_path, img_path, mode='test')\n",
    "print(train_dataset)\n",
    "print(val_dataset)\n",
    "print(test_dataset)"
   ]
  },
  {
   "cell_type": "code",
   "execution_count": 8,
   "metadata": {
    "execution": {
     "iopub.execute_input": "2022-10-08T13:18:10.059802Z",
     "iopub.status.busy": "2022-10-08T13:18:10.059410Z",
     "iopub.status.idle": "2022-10-08T13:18:10.065868Z",
     "shell.execute_reply": "2022-10-08T13:18:10.064810Z",
     "shell.execute_reply.started": "2022-10-08T13:18:10.059767Z"
    }
   },
   "outputs": [],
   "source": [
    "# 定义data loader\n",
    "train_loader = torch.utils.data.DataLoader(\n",
    "        dataset=train_dataset,\n",
    "        batch_size=90,      \n",
    "        shuffle=True,     #打开乱序  False\n",
    "        num_workers=2\n",
    "    )\n",
    "\n",
    "val_loader = torch.utils.data.DataLoader(\n",
    "        dataset=val_dataset,\n",
    "        batch_size=90,   \n",
    "        shuffle=True,    #打开乱序  False\n",
    "        num_workers=2\n",
    "    )\n",
    "test_loader = torch.utils.data.DataLoader(\n",
    "        dataset=test_dataset,\n",
    "        batch_size=90, \n",
    "        shuffle=False,\n",
    "        num_workers=2\n",
    "    )"
   ]
  },
  {
   "cell_type": "code",
   "execution_count": 9,
   "metadata": {
    "execution": {
     "iopub.execute_input": "2022-10-08T13:18:10.067961Z",
     "iopub.status.busy": "2022-10-08T13:18:10.067572Z",
     "iopub.status.idle": "2022-10-08T13:18:10.139993Z",
     "shell.execute_reply": "2022-10-08T13:18:10.139093Z",
     "shell.execute_reply.started": "2022-10-08T13:18:10.067926Z"
    }
   },
   "outputs": [
    {
     "name": "stdout",
     "output_type": "stream",
     "text": [
      "cuda\n"
     ]
    }
   ],
   "source": [
    "# GPU计算\n",
    "def get_device():\n",
    "    return 'cuda' if torch.cuda.is_available() else 'cpu'\n",
    "\n",
    "device = get_device()\n",
    "print(device)"
   ]
  },
  {
   "cell_type": "code",
   "execution_count": 10,
   "metadata": {
    "execution": {
     "iopub.execute_input": "2022-10-08T13:18:10.145113Z",
     "iopub.status.busy": "2022-10-08T13:18:10.143218Z",
     "iopub.status.idle": "2022-10-08T13:18:10.150982Z",
     "shell.execute_reply": "2022-10-08T13:18:10.150049Z",
     "shell.execute_reply.started": "2022-10-08T13:18:10.145077Z"
    }
   },
   "outputs": [],
   "source": [
    "# 超参数\n",
    "learning_rate = 1e-4   #1e-4\n",
    "weight_decay = 1e-3\n",
    "num_epoch = 50\n",
    "beta = 1              #cutmix参数\n",
    "model_path = './pre_res_model.ckpt' #保存中间模型数据，方便加载"
   ]
  },
  {
   "cell_type": "code",
   "execution_count": 11,
   "metadata": {
    "execution": {
     "iopub.execute_input": "2022-10-08T13:18:10.155812Z",
     "iopub.status.busy": "2022-10-08T13:18:10.155055Z",
     "iopub.status.idle": "2022-10-08T13:18:10.164106Z",
     "shell.execute_reply": "2022-10-08T13:18:10.163213Z",
     "shell.execute_reply.started": "2022-10-08T13:18:10.155782Z"
    }
   },
   "outputs": [],
   "source": [
    "#微调学习率 \n",
    "def train_fine_tuning(net,learning_rate,param_group=True):\n",
    "    if param_group:\n",
    "        params_1x = [\n",
    "            param for name, param in net.named_parameters()\n",
    "            if name not in [\"fc.weight\", \"fc.bias\"]]\n",
    "        optimizer = torch.optim.Adam([{\n",
    "            'params': params_1x}, {\n",
    "                'params': net.fc.parameters(),\n",
    "                'lr': learning_rate * 10}], lr=learning_rate,  #10\n",
    "                                    weight_decay=0.001)\n",
    "    else:\n",
    "        optimizer = torch.optim.Adam(net.parameters(), lr=learning_rate* 0.2,\n",
    "                                      weight_decay=0.001)  \n",
    "    return optimizer"
   ]
  },
  {
   "cell_type": "code",
   "execution_count": 12,
   "metadata": {
    "execution": {
     "iopub.execute_input": "2022-10-08T13:18:10.167581Z",
     "iopub.status.busy": "2022-10-08T13:18:10.166177Z",
     "iopub.status.idle": "2022-10-08T13:18:30.358295Z",
     "shell.execute_reply": "2022-10-08T13:18:30.357260Z",
     "shell.execute_reply.started": "2022-10-08T13:18:10.167555Z"
    }
   },
   "outputs": [
    {
     "name": "stdout",
     "output_type": "stream",
     "text": [
      "Collecting timm\n",
      "  Downloading timm-0.6.11-py3-none-any.whl (548 kB)\n",
      "\u001b[2K     \u001b[90m━━━━━━━━━━━━━━━━━━━━━━━━━━━━━━━━━━━━━━━\u001b[0m \u001b[32m548.7/548.7 kB\u001b[0m \u001b[31m9.0 MB/s\u001b[0m eta \u001b[36m0:00:00\u001b[0ma \u001b[36m0:00:01\u001b[0m\n",
      "\u001b[?25hRequirement already satisfied: torchvision in /opt/conda/lib/python3.7/site-packages (from timm) (0.12.0)\n",
      "Requirement already satisfied: huggingface-hub in /opt/conda/lib/python3.7/site-packages (from timm) (0.8.1)\n",
      "Requirement already satisfied: torch>=1.7 in /opt/conda/lib/python3.7/site-packages (from timm) (1.11.0)\n",
      "Requirement already satisfied: pyyaml in /opt/conda/lib/python3.7/site-packages (from timm) (6.0)\n",
      "Requirement already satisfied: typing-extensions in /opt/conda/lib/python3.7/site-packages (from torch>=1.7->timm) (4.3.0)\n",
      "Requirement already satisfied: packaging>=20.9 in /opt/conda/lib/python3.7/site-packages (from huggingface-hub->timm) (21.3)\n",
      "Requirement already satisfied: requests in /opt/conda/lib/python3.7/site-packages (from huggingface-hub->timm) (2.28.1)\n",
      "Requirement already satisfied: tqdm in /opt/conda/lib/python3.7/site-packages (from huggingface-hub->timm) (4.64.0)\n",
      "Requirement already satisfied: importlib-metadata in /opt/conda/lib/python3.7/site-packages (from huggingface-hub->timm) (4.12.0)\n",
      "Requirement already satisfied: filelock in /opt/conda/lib/python3.7/site-packages (from huggingface-hub->timm) (3.7.1)\n",
      "Requirement already satisfied: numpy in /opt/conda/lib/python3.7/site-packages (from torchvision->timm) (1.21.6)\n",
      "Requirement already satisfied: pillow!=8.3.*,>=5.3.0 in /opt/conda/lib/python3.7/site-packages (from torchvision->timm) (9.1.1)\n",
      "Requirement already satisfied: pyparsing!=3.0.5,>=2.0.2 in /opt/conda/lib/python3.7/site-packages (from packaging>=20.9->huggingface-hub->timm) (3.0.9)\n",
      "Requirement already satisfied: zipp>=0.5 in /opt/conda/lib/python3.7/site-packages (from importlib-metadata->huggingface-hub->timm) (3.8.0)\n",
      "Requirement already satisfied: urllib3<1.27,>=1.21.1 in /opt/conda/lib/python3.7/site-packages (from requests->huggingface-hub->timm) (1.26.12)\n",
      "Requirement already satisfied: idna<4,>=2.5 in /opt/conda/lib/python3.7/site-packages (from requests->huggingface-hub->timm) (3.3)\n",
      "Requirement already satisfied: charset-normalizer<3,>=2 in /opt/conda/lib/python3.7/site-packages (from requests->huggingface-hub->timm) (2.1.0)\n",
      "Requirement already satisfied: certifi>=2017.4.17 in /opt/conda/lib/python3.7/site-packages (from requests->huggingface-hub->timm) (2022.6.15.2)\n",
      "Installing collected packages: timm\n",
      "Successfully installed timm-0.6.11\n",
      "\u001b[33mWARNING: Running pip as the 'root' user can result in broken permissions and conflicting behaviour with the system package manager. It is recommended to use a virtual environment instead: https://pip.pypa.io/warnings/venv\u001b[0m\u001b[33m\n",
      "\u001b[0mCollecting torchinfo\n",
      "  Downloading torchinfo-1.7.1-py3-none-any.whl (22 kB)\n",
      "Installing collected packages: torchinfo\n",
      "Successfully installed torchinfo-1.7.1\n",
      "\u001b[33mWARNING: Running pip as the 'root' user can result in broken permissions and conflicting behaviour with the system package manager. It is recommended to use a virtual environment instead: https://pip.pypa.io/warnings/venv\u001b[0m\u001b[33m\n",
      "\u001b[0m"
     ]
    }
   ],
   "source": [
    "!pip install timm\n",
    "!pip install torchinfo\n",
    "import timm                     #timm库有更丰富的预训练模型\n",
    "from torchinfo import summary"
   ]
  },
  {
   "cell_type": "code",
   "execution_count": 13,
   "metadata": {
    "execution": {
     "iopub.execute_input": "2022-10-08T13:18:30.360407Z",
     "iopub.status.busy": "2022-10-08T13:18:30.359755Z",
     "iopub.status.idle": "2022-10-08T13:18:37.945504Z",
     "shell.execute_reply": "2022-10-08T13:18:37.944416Z",
     "shell.execute_reply.started": "2022-10-08T13:18:30.360370Z"
    }
   },
   "outputs": [
    {
     "name": "stderr",
     "output_type": "stream",
     "text": [
      "Downloading: \"https://github.com/rwightman/pytorch-image-models/releases/download/v0.1-weights/seresnext50_32x4d_racm-a304a460.pth\" to /root/.cache/torch/hub/checkpoints/seresnext50_32x4d_racm-a304a460.pth\n"
     ]
    }
   ],
   "source": [
    "model_1 = timm.create_model('seresnext50_32x4d', pretrained=True)\n",
    "model_1.fc = nn.Linear(model_1.fc.in_features, 176)\n",
    "nn.init.xavier_uniform_(model_1.fc.weight);\n",
    "model_1 = model_1.to(device) #GPU\n",
    "model_1.device = device"
   ]
  },
  {
   "cell_type": "code",
   "execution_count": 14,
   "metadata": {
    "execution": {
     "iopub.execute_input": "2022-10-08T13:18:37.947575Z",
     "iopub.status.busy": "2022-10-08T13:18:37.947198Z",
     "iopub.status.idle": "2022-10-08T13:18:37.953254Z",
     "shell.execute_reply": "2022-10-08T13:18:37.952082Z",
     "shell.execute_reply.started": "2022-10-08T13:18:37.947535Z"
    }
   },
   "outputs": [],
   "source": [
    "# model_2 = models.resnext50_32x4d(pretrained=True)\n",
    "# model_2.fc = nn.Linear(model_2.fc.in_features, 176)\n",
    "# nn.init.xavier_uniform_(model_2.fc.weight);\n",
    "# model_2 = model_2.to(device) #GPU\n",
    "# model_2.device = device"
   ]
  },
  {
   "cell_type": "code",
   "execution_count": 15,
   "metadata": {
    "execution": {
     "iopub.execute_input": "2022-10-08T13:18:37.956094Z",
     "iopub.status.busy": "2022-10-08T13:18:37.954804Z",
     "iopub.status.idle": "2022-10-08T13:18:37.965148Z",
     "shell.execute_reply": "2022-10-08T13:18:37.964127Z",
     "shell.execute_reply.started": "2022-10-08T13:18:37.956058Z"
    }
   },
   "outputs": [],
   "source": [
    "# model_3 = models.resnext50_32x4d(pretrained=True)\n",
    "# model_3.fc = nn.Linear(model_3.fc.in_features, 176)\n",
    "# nn.init.xavier_uniform_(model_3.fc.weight);\n",
    "# model_3 = model_3.to(device) #GPU\n",
    "# model_3.device = device"
   ]
  },
  {
   "cell_type": "code",
   "execution_count": 16,
   "metadata": {
    "execution": {
     "iopub.execute_input": "2022-10-08T13:18:37.967134Z",
     "iopub.status.busy": "2022-10-08T13:18:37.966758Z",
     "iopub.status.idle": "2022-10-08T13:18:37.976501Z",
     "shell.execute_reply": "2022-10-08T13:18:37.975372Z",
     "shell.execute_reply.started": "2022-10-08T13:18:37.967090Z"
    }
   },
   "outputs": [],
   "source": [
    "#cutmix计算裁剪区域\n",
    "def rand_bbox(size, lamb):  #计算自定义裁剪区域\n",
    "    W = size[2]\n",
    "    H = size[3]\n",
    "    cut_rat = np.sqrt(1. - lamb)\n",
    "    cut_w = np.int32(W * cut_rat)\n",
    "    cut_h = np.int32(H * cut_rat)\n",
    "\n",
    "    # uniform\n",
    "    cx = np.random.randint(W)\n",
    "    cy = np.random.randint(H)\n",
    "\n",
    "    bbx1 = np.clip(cx - cut_w // 2, 0, W)\n",
    "    bby1 = np.clip(cy - cut_h // 2, 0, H)\n",
    "    bbx2 = np.clip(cx + cut_w // 2, 0, W)\n",
    "    bby2 = np.clip(cy + cut_h // 2, 0, H)\n",
    "\n",
    "    return bbx1, bby1, bbx2, bby2"
   ]
  },
  {
   "cell_type": "code",
   "execution_count": 17,
   "metadata": {
    "execution": {
     "iopub.execute_input": "2022-10-08T13:18:37.978678Z",
     "iopub.status.busy": "2022-10-08T13:18:37.978087Z",
     "iopub.status.idle": "2022-10-08T13:18:37.998659Z",
     "shell.execute_reply": "2022-10-08T13:18:37.997470Z",
     "shell.execute_reply.started": "2022-10-08T13:18:37.978640Z"
    }
   },
   "outputs": [],
   "source": [
    "#训练函数\n",
    "def train_2(model): \n",
    "    optimizer = train_fine_tuning(model, learning_rate)\n",
    "    # 对于分类任务，我们使用交叉熵作为性能的度量。\n",
    "    criterion = nn.CrossEntropyLoss()\n",
    "    # 定义学习率衰减\n",
    "    #scheduler = torch.optim.lr_scheduler.StepLR(optimizer, step_size=10, gamma=0.1) #按照epoch衰减  不好用\n",
    "    #scheduler = torch.optim.lr_scheduler.CosineAnnealingLR(optimizer, T_max=40,eta_min=0.00000001)  #余弦变化\n",
    "    scheduler = torch.optim.lr_scheduler.ReduceLROnPlateau(optimizer, mode='min', factor=0.5, patience=3, verbose=True, min_lr=0.0000001)\n",
    "    # 初始化优化器，您可以自行微调一些超参数，如学习速率。此处用的Adam\n",
    "    #optimizer = torch.optim.Adam(model.parameters(), lr = learning_rate, weight_decay=weight_decay)\n",
    "    \n",
    "    # 训练次数\n",
    "    n_epochs = num_epoch\n",
    "    \n",
    "    best_acc = 0.0\n",
    "    for epoch in range(n_epochs):\n",
    "        # ---------- Training ----------  以下是训练模型\n",
    "        # 训练前确保模型处于训练模式。\n",
    "        model.train() \n",
    "        # 记录训练信息\n",
    "        train_loss = []\n",
    "        train_accs = []\n",
    "        # 按批迭代训练集。\n",
    "        for batch in tqdm(train_loader):\n",
    "            # batch由图像数据和相应的标签组成。\n",
    "            imgs, labels = batch\n",
    "            imgs = imgs.to(device)    #数据移动到GPU\n",
    "            labels = labels.to(device)\n",
    "            \n",
    "            #图片裁剪 CUTMIX训练代码\n",
    "            lam = np.random.beta(beta, beta) #生成随机裁剪权重\n",
    "            rand_index = torch.randperm(imgs.size()[0]).to(device) #打乱样本生成拼接样本\n",
    "            labels_a = labels  #正常样本标签\n",
    "            labels_b = labels[rand_index]  #乱序样本标签\n",
    "            bbx1, bby1, bbx2, bby2 = rand_bbox(imgs.size(), lam) #生成裁剪区域\n",
    "            #将原样本中bbx1:bbx2, bby1:bby2区域改成乱序样本标签对应的区域\n",
    "            imgs[:, :, bbx1:bbx2, bby1:bby2] = imgs[rand_index, :, bbx1:bbx2, bby1:bby2]\n",
    "            #重新计算lambda以精确匹配像素比率（因为有可能裁剪超出边界）\n",
    "            lam = 1 - ((bbx2 - bbx1) * (bby2 - bby1) / (imgs.size()[-1] * imgs.size()[-2]))\n",
    "            # Forward the data. (Make sure data and model are on the same device.)\n",
    "            logits = model(imgs)  #将图形数据带入模型计算预测\n",
    "            # 计算交叉熵损失(注意是两个样本的损失按照分割比例加权求和)\n",
    "            loss = criterion(logits, labels_a) * lam + criterion(logits, labels_b) * (1. - lam)\n",
    "            \n",
    "            \n",
    "            # 清除上一步中存储在参数中的梯度。\n",
    "            optimizer.zero_grad()\n",
    "            # 计算参数的梯度。\n",
    "            loss.backward()\n",
    "            # 用计算的梯度更新参数。\n",
    "            optimizer.step()\n",
    "        \n",
    "            # 计算当前批次的精度。\n",
    "            acc = (logits.argmax(dim=-1) == labels).float().mean()\n",
    "    \n",
    "            # 记录损失和准确度\n",
    "            train_loss.append(loss.item())\n",
    "            train_accs.append(acc)\n",
    "            \n",
    "                \n",
    "            \n",
    "        # 训练集的平均损失和精度是记录值的平均值。\n",
    "        train_loss = sum(train_loss) / len(train_loss)\n",
    "        train_acc = sum(train_accs) / len(train_accs)\n",
    "        \n",
    "        \n",
    "        #更新学习率\n",
    "        print(\"第%d个epoch的学习率：%f\" % (epoch, optimizer.param_groups[0]['lr']))\n",
    "        scheduler.step(train_loss)\n",
    "        \n",
    "        \n",
    "        # 打印信息\n",
    "        print(f\"[ Train | {epoch + 1:03d}/{n_epochs:03d} ] loss = {train_loss:.5f}, acc = {train_acc:.5f}\")\n",
    "            \n",
    "            \n",
    "        # ---------- 验证 ----------\n",
    "        #这里我认为在验证处也加上TTA也许更加合理，因为前面对图像进行了变换，\n",
    "        #在验证的时候也将图像进行相对应的变换可能能够提取更多的特征。\n",
    "        # 确保模型处于eval模式，以便禁用dropout等模块并正常工作。\n",
    "        model.eval()\n",
    "        # 这些用于记录验证中的信息\n",
    "        valid_loss = []\n",
    "        valid_accs = []\n",
    "        \n",
    "        # 逐批迭代验证集。\n",
    "        for batch in tqdm(val_loader):\n",
    "            imgs, labels = batch\n",
    "            # 不需要梯度验证.\n",
    "            # Using  torch.no_grad()  accelerates the forward process.\n",
    "            with torch.no_grad():\n",
    "                logits = model(imgs.to(device))\n",
    "                  \n",
    "            # 我们仍然可以计算损失（但不能计算梯度）。\n",
    "            loss = criterion(logits, labels.to(device))\n",
    "    \n",
    "            # 计算当前批次的精度。\n",
    "            acc = (logits.argmax(dim=-1) == labels.to(device)).float().mean()\n",
    "    \n",
    "            # 记录损失和准确性\n",
    "            valid_loss.append(loss.item())\n",
    "            valid_accs.append(acc)\n",
    "              \n",
    "        # 整个验证集的平均损失和准确度是记录值的平均值\n",
    "        valid_loss = sum(valid_loss) / len(valid_loss)\n",
    "        valid_acc = sum(valid_accs) / len(valid_accs)\n",
    "    \n",
    "        # 打印信息.\n",
    "        print(f\"[ Valid | {epoch + 1:03d}/{n_epochs:03d} ] loss = {valid_loss:.5f}, acc = {valid_acc:.5f}\")\n",
    "            \n",
    "        # 如果模型改进了，在这个时间点保存一个检查点\n",
    "        if valid_acc > best_acc:\n",
    "            best_acc = valid_acc\n",
    "            torch.save(model.state_dict(), model_path)\n",
    "            print('saving model with acc {:.3f}'.format(best_acc))"
   ]
  },
  {
   "cell_type": "code",
   "execution_count": 18,
   "metadata": {
    "execution": {
     "iopub.execute_input": "2022-10-08T13:18:38.001156Z",
     "iopub.status.busy": "2022-10-08T13:18:38.000070Z",
     "iopub.status.idle": "2022-10-08T13:18:38.012016Z",
     "shell.execute_reply": "2022-10-08T13:18:38.011017Z",
     "shell.execute_reply.started": "2022-10-08T13:18:38.001119Z"
    }
   },
   "outputs": [],
   "source": [
    "saveFileName = './submission.csv'"
   ]
  },
  {
   "cell_type": "code",
   "execution_count": 19,
   "metadata": {
    "execution": {
     "iopub.execute_input": "2022-10-08T13:18:38.014106Z",
     "iopub.status.busy": "2022-10-08T13:18:38.013540Z",
     "iopub.status.idle": "2022-10-08T15:08:29.617401Z",
     "shell.execute_reply": "2022-10-08T15:08:29.616172Z",
     "shell.execute_reply.started": "2022-10-08T13:18:38.014070Z"
    }
   },
   "outputs": [
    {
     "name": "stderr",
     "output_type": "stream",
     "text": [
      "100%|██████████| 164/164 [02:07<00:00,  1.29it/s]\n"
     ]
    },
    {
     "name": "stdout",
     "output_type": "stream",
     "text": [
      "第0个epoch的学习率：0.000100\n",
      "[ Train | 001/050 ] loss = 4.06971, acc = 0.18054\n"
     ]
    },
    {
     "name": "stderr",
     "output_type": "stream",
     "text": [
      "100%|██████████| 41/41 [00:21<00:00,  1.92it/s]\n"
     ]
    },
    {
     "name": "stdout",
     "output_type": "stream",
     "text": [
      "[ Valid | 001/050 ] loss = 1.50236, acc = 0.64743\n",
      "saving model with acc 0.647\n"
     ]
    },
    {
     "name": "stderr",
     "output_type": "stream",
     "text": [
      "100%|██████████| 164/164 [01:59<00:00,  1.37it/s]\n"
     ]
    },
    {
     "name": "stdout",
     "output_type": "stream",
     "text": [
      "第1个epoch的学习率：0.000100\n",
      "[ Train | 002/050 ] loss = 2.47338, acc = 0.49258\n"
     ]
    },
    {
     "name": "stderr",
     "output_type": "stream",
     "text": [
      "100%|██████████| 41/41 [00:11<00:00,  3.65it/s]\n"
     ]
    },
    {
     "name": "stdout",
     "output_type": "stream",
     "text": [
      "[ Valid | 002/050 ] loss = 0.76010, acc = 0.84201\n",
      "saving model with acc 0.842\n"
     ]
    },
    {
     "name": "stderr",
     "output_type": "stream",
     "text": [
      "100%|██████████| 164/164 [01:59<00:00,  1.37it/s]\n"
     ]
    },
    {
     "name": "stdout",
     "output_type": "stream",
     "text": [
      "第2个epoch的学习率：0.000100\n",
      "[ Train | 003/050 ] loss = 2.17455, acc = 0.56790\n"
     ]
    },
    {
     "name": "stderr",
     "output_type": "stream",
     "text": [
      "100%|██████████| 41/41 [00:11<00:00,  3.60it/s]\n"
     ]
    },
    {
     "name": "stdout",
     "output_type": "stream",
     "text": [
      "[ Valid | 003/050 ] loss = 0.58611, acc = 0.88801\n",
      "saving model with acc 0.888\n"
     ]
    },
    {
     "name": "stderr",
     "output_type": "stream",
     "text": [
      "100%|██████████| 164/164 [01:59<00:00,  1.37it/s]\n"
     ]
    },
    {
     "name": "stdout",
     "output_type": "stream",
     "text": [
      "第3个epoch的学习率：0.000100\n",
      "[ Train | 004/050 ] loss = 2.00033, acc = 0.57684\n"
     ]
    },
    {
     "name": "stderr",
     "output_type": "stream",
     "text": [
      "100%|██████████| 41/41 [00:12<00:00,  3.39it/s]\n"
     ]
    },
    {
     "name": "stdout",
     "output_type": "stream",
     "text": [
      "[ Valid | 004/050 ] loss = 0.47127, acc = 0.90793\n",
      "saving model with acc 0.908\n"
     ]
    },
    {
     "name": "stderr",
     "output_type": "stream",
     "text": [
      "100%|██████████| 164/164 [01:59<00:00,  1.37it/s]\n"
     ]
    },
    {
     "name": "stdout",
     "output_type": "stream",
     "text": [
      "第4个epoch的学习率：0.000100\n",
      "[ Train | 005/050 ] loss = 1.73780, acc = 0.64932\n"
     ]
    },
    {
     "name": "stderr",
     "output_type": "stream",
     "text": [
      "100%|██████████| 41/41 [00:11<00:00,  3.42it/s]\n"
     ]
    },
    {
     "name": "stdout",
     "output_type": "stream",
     "text": [
      "[ Valid | 005/050 ] loss = 0.41994, acc = 0.92879\n",
      "saving model with acc 0.929\n"
     ]
    },
    {
     "name": "stderr",
     "output_type": "stream",
     "text": [
      "100%|██████████| 164/164 [01:59<00:00,  1.37it/s]\n"
     ]
    },
    {
     "name": "stdout",
     "output_type": "stream",
     "text": [
      "第5个epoch的学习率：0.000100\n",
      "[ Train | 006/050 ] loss = 1.73380, acc = 0.61422\n"
     ]
    },
    {
     "name": "stderr",
     "output_type": "stream",
     "text": [
      "100%|██████████| 41/41 [00:11<00:00,  3.50it/s]\n"
     ]
    },
    {
     "name": "stdout",
     "output_type": "stream",
     "text": [
      "[ Valid | 006/050 ] loss = 0.38388, acc = 0.94390\n",
      "saving model with acc 0.944\n"
     ]
    },
    {
     "name": "stderr",
     "output_type": "stream",
     "text": [
      "100%|██████████| 164/164 [01:59<00:00,  1.37it/s]\n"
     ]
    },
    {
     "name": "stdout",
     "output_type": "stream",
     "text": [
      "第6个epoch的学习率：0.000100\n",
      "[ Train | 007/050 ] loss = 1.66033, acc = 0.64481\n"
     ]
    },
    {
     "name": "stderr",
     "output_type": "stream",
     "text": [
      "100%|██████████| 41/41 [00:11<00:00,  3.63it/s]\n"
     ]
    },
    {
     "name": "stdout",
     "output_type": "stream",
     "text": [
      "[ Valid | 007/050 ] loss = 0.34744, acc = 0.93957\n"
     ]
    },
    {
     "name": "stderr",
     "output_type": "stream",
     "text": [
      "100%|██████████| 164/164 [01:59<00:00,  1.37it/s]\n"
     ]
    },
    {
     "name": "stdout",
     "output_type": "stream",
     "text": [
      "第7个epoch的学习率：0.000100\n",
      "[ Train | 008/050 ] loss = 1.61439, acc = 0.62966\n"
     ]
    },
    {
     "name": "stderr",
     "output_type": "stream",
     "text": [
      "100%|██████████| 41/41 [00:11<00:00,  3.61it/s]\n"
     ]
    },
    {
     "name": "stdout",
     "output_type": "stream",
     "text": [
      "[ Valid | 008/050 ] loss = 0.34118, acc = 0.94939\n",
      "saving model with acc 0.949\n"
     ]
    },
    {
     "name": "stderr",
     "output_type": "stream",
     "text": [
      "100%|██████████| 164/164 [01:59<00:00,  1.37it/s]\n"
     ]
    },
    {
     "name": "stdout",
     "output_type": "stream",
     "text": [
      "第8个epoch的学习率：0.000100\n",
      "[ Train | 009/050 ] loss = 1.54501, acc = 0.65314\n"
     ]
    },
    {
     "name": "stderr",
     "output_type": "stream",
     "text": [
      "100%|██████████| 41/41 [00:11<00:00,  3.61it/s]\n"
     ]
    },
    {
     "name": "stdout",
     "output_type": "stream",
     "text": [
      "[ Valid | 009/050 ] loss = 0.30932, acc = 0.95007\n",
      "saving model with acc 0.950\n"
     ]
    },
    {
     "name": "stderr",
     "output_type": "stream",
     "text": [
      "100%|██████████| 164/164 [01:59<00:00,  1.37it/s]\n"
     ]
    },
    {
     "name": "stdout",
     "output_type": "stream",
     "text": [
      "第9个epoch的学习率：0.000100\n",
      "[ Train | 010/050 ] loss = 1.52768, acc = 0.64831\n"
     ]
    },
    {
     "name": "stderr",
     "output_type": "stream",
     "text": [
      "100%|██████████| 41/41 [00:11<00:00,  3.63it/s]\n"
     ]
    },
    {
     "name": "stdout",
     "output_type": "stream",
     "text": [
      "[ Valid | 010/050 ] loss = 0.32194, acc = 0.95630\n",
      "saving model with acc 0.956\n"
     ]
    },
    {
     "name": "stderr",
     "output_type": "stream",
     "text": [
      "100%|██████████| 164/164 [01:59<00:00,  1.37it/s]\n"
     ]
    },
    {
     "name": "stdout",
     "output_type": "stream",
     "text": [
      "第10个epoch的学习率：0.000100\n",
      "[ Train | 011/050 ] loss = 1.48876, acc = 0.64774\n"
     ]
    },
    {
     "name": "stderr",
     "output_type": "stream",
     "text": [
      "100%|██████████| 41/41 [00:11<00:00,  3.61it/s]\n"
     ]
    },
    {
     "name": "stdout",
     "output_type": "stream",
     "text": [
      "[ Valid | 011/050 ] loss = 0.28724, acc = 0.95650\n",
      "saving model with acc 0.957\n"
     ]
    },
    {
     "name": "stderr",
     "output_type": "stream",
     "text": [
      "100%|██████████| 164/164 [01:59<00:00,  1.37it/s]\n"
     ]
    },
    {
     "name": "stdout",
     "output_type": "stream",
     "text": [
      "第11个epoch的学习率：0.000100\n",
      "[ Train | 012/050 ] loss = 1.43071, acc = 0.65576\n"
     ]
    },
    {
     "name": "stderr",
     "output_type": "stream",
     "text": [
      "100%|██████████| 41/41 [00:11<00:00,  3.44it/s]\n"
     ]
    },
    {
     "name": "stdout",
     "output_type": "stream",
     "text": [
      "[ Valid | 012/050 ] loss = 0.30140, acc = 0.95474\n"
     ]
    },
    {
     "name": "stderr",
     "output_type": "stream",
     "text": [
      "100%|██████████| 164/164 [01:59<00:00,  1.37it/s]\n"
     ]
    },
    {
     "name": "stdout",
     "output_type": "stream",
     "text": [
      "第12个epoch的学习率：0.000100\n",
      "[ Train | 013/050 ] loss = 1.41390, acc = 0.63878\n"
     ]
    },
    {
     "name": "stderr",
     "output_type": "stream",
     "text": [
      "100%|██████████| 41/41 [00:11<00:00,  3.48it/s]\n"
     ]
    },
    {
     "name": "stdout",
     "output_type": "stream",
     "text": [
      "[ Valid | 013/050 ] loss = 0.26424, acc = 0.96165\n",
      "saving model with acc 0.962\n"
     ]
    },
    {
     "name": "stderr",
     "output_type": "stream",
     "text": [
      "100%|██████████| 164/164 [01:59<00:00,  1.37it/s]\n"
     ]
    },
    {
     "name": "stdout",
     "output_type": "stream",
     "text": [
      "第13个epoch的学习率：0.000100\n",
      "[ Train | 014/050 ] loss = 1.32100, acc = 0.70947\n"
     ]
    },
    {
     "name": "stderr",
     "output_type": "stream",
     "text": [
      "100%|██████████| 41/41 [00:11<00:00,  3.55it/s]\n"
     ]
    },
    {
     "name": "stdout",
     "output_type": "stream",
     "text": [
      "[ Valid | 014/050 ] loss = 0.23670, acc = 0.96416\n",
      "saving model with acc 0.964\n"
     ]
    },
    {
     "name": "stderr",
     "output_type": "stream",
     "text": [
      "100%|██████████| 164/164 [01:59<00:00,  1.37it/s]\n"
     ]
    },
    {
     "name": "stdout",
     "output_type": "stream",
     "text": [
      "第14个epoch的学习率：0.000100\n",
      "[ Train | 015/050 ] loss = 1.31295, acc = 0.67636\n"
     ]
    },
    {
     "name": "stderr",
     "output_type": "stream",
     "text": [
      "100%|██████████| 41/41 [00:11<00:00,  3.46it/s]\n"
     ]
    },
    {
     "name": "stdout",
     "output_type": "stream",
     "text": [
      "[ Valid | 015/050 ] loss = 0.26490, acc = 0.96321\n"
     ]
    },
    {
     "name": "stderr",
     "output_type": "stream",
     "text": [
      "100%|██████████| 164/164 [01:59<00:00,  1.37it/s]\n"
     ]
    },
    {
     "name": "stdout",
     "output_type": "stream",
     "text": [
      "第15个epoch的学习率：0.000100\n",
      "[ Train | 016/050 ] loss = 1.32174, acc = 0.67153\n"
     ]
    },
    {
     "name": "stderr",
     "output_type": "stream",
     "text": [
      "100%|██████████| 41/41 [00:11<00:00,  3.64it/s]\n"
     ]
    },
    {
     "name": "stdout",
     "output_type": "stream",
     "text": [
      "[ Valid | 016/050 ] loss = 0.21390, acc = 0.96653\n",
      "saving model with acc 0.967\n"
     ]
    },
    {
     "name": "stderr",
     "output_type": "stream",
     "text": [
      "100%|██████████| 164/164 [01:59<00:00,  1.37it/s]\n"
     ]
    },
    {
     "name": "stdout",
     "output_type": "stream",
     "text": [
      "第16个epoch的学习率：0.000100\n",
      "[ Train | 017/050 ] loss = 1.25052, acc = 0.70063\n"
     ]
    },
    {
     "name": "stderr",
     "output_type": "stream",
     "text": [
      "100%|██████████| 41/41 [00:11<00:00,  3.64it/s]\n"
     ]
    },
    {
     "name": "stdout",
     "output_type": "stream",
     "text": [
      "[ Valid | 017/050 ] loss = 0.22435, acc = 0.96565\n"
     ]
    },
    {
     "name": "stderr",
     "output_type": "stream",
     "text": [
      "100%|██████████| 164/164 [01:59<00:00,  1.37it/s]\n"
     ]
    },
    {
     "name": "stdout",
     "output_type": "stream",
     "text": [
      "第17个epoch的学习率：0.000100\n",
      "[ Train | 018/050 ] loss = 1.33604, acc = 0.63914\n"
     ]
    },
    {
     "name": "stderr",
     "output_type": "stream",
     "text": [
      "100%|██████████| 41/41 [00:11<00:00,  3.67it/s]\n"
     ]
    },
    {
     "name": "stdout",
     "output_type": "stream",
     "text": [
      "[ Valid | 018/050 ] loss = 0.20114, acc = 0.97114\n",
      "saving model with acc 0.971\n"
     ]
    },
    {
     "name": "stderr",
     "output_type": "stream",
     "text": [
      "100%|██████████| 164/164 [02:00<00:00,  1.37it/s]\n"
     ]
    },
    {
     "name": "stdout",
     "output_type": "stream",
     "text": [
      "第18个epoch的学习率：0.000100\n",
      "[ Train | 019/050 ] loss = 1.24424, acc = 0.68567\n"
     ]
    },
    {
     "name": "stderr",
     "output_type": "stream",
     "text": [
      "100%|██████████| 41/41 [00:11<00:00,  3.46it/s]\n"
     ]
    },
    {
     "name": "stdout",
     "output_type": "stream",
     "text": [
      "[ Valid | 019/050 ] loss = 0.20461, acc = 0.96809\n"
     ]
    },
    {
     "name": "stderr",
     "output_type": "stream",
     "text": [
      "100%|██████████| 164/164 [01:59<00:00,  1.37it/s]\n"
     ]
    },
    {
     "name": "stdout",
     "output_type": "stream",
     "text": [
      "第19个epoch的学习率：0.000100\n",
      "[ Train | 020/050 ] loss = 1.22907, acc = 0.72347\n"
     ]
    },
    {
     "name": "stderr",
     "output_type": "stream",
     "text": [
      "100%|██████████| 41/41 [00:12<00:00,  3.40it/s]\n"
     ]
    },
    {
     "name": "stdout",
     "output_type": "stream",
     "text": [
      "[ Valid | 020/050 ] loss = 0.21139, acc = 0.96755\n"
     ]
    },
    {
     "name": "stderr",
     "output_type": "stream",
     "text": [
      "100%|██████████| 164/164 [01:59<00:00,  1.37it/s]\n"
     ]
    },
    {
     "name": "stdout",
     "output_type": "stream",
     "text": [
      "第20个epoch的学习率：0.000100\n",
      "[ Train | 021/050 ] loss = 1.25927, acc = 0.68391\n"
     ]
    },
    {
     "name": "stderr",
     "output_type": "stream",
     "text": [
      "100%|██████████| 41/41 [00:11<00:00,  3.49it/s]\n"
     ]
    },
    {
     "name": "stdout",
     "output_type": "stream",
     "text": [
      "[ Valid | 021/050 ] loss = 0.23022, acc = 0.97080\n"
     ]
    },
    {
     "name": "stderr",
     "output_type": "stream",
     "text": [
      "100%|██████████| 164/164 [01:59<00:00,  1.37it/s]\n"
     ]
    },
    {
     "name": "stdout",
     "output_type": "stream",
     "text": [
      "第21个epoch的学习率：0.000100\n",
      "[ Train | 022/050 ] loss = 1.25837, acc = 0.65816\n"
     ]
    },
    {
     "name": "stderr",
     "output_type": "stream",
     "text": [
      "100%|██████████| 41/41 [00:11<00:00,  3.58it/s]\n"
     ]
    },
    {
     "name": "stdout",
     "output_type": "stream",
     "text": [
      "[ Valid | 022/050 ] loss = 0.21607, acc = 0.96240\n"
     ]
    },
    {
     "name": "stderr",
     "output_type": "stream",
     "text": [
      "100%|██████████| 164/164 [01:59<00:00,  1.37it/s]\n"
     ]
    },
    {
     "name": "stdout",
     "output_type": "stream",
     "text": [
      "第22个epoch的学习率：0.000100\n",
      "[ Train | 023/050 ] loss = 1.16324, acc = 0.74108\n"
     ]
    },
    {
     "name": "stderr",
     "output_type": "stream",
     "text": [
      "100%|██████████| 41/41 [00:11<00:00,  3.62it/s]\n"
     ]
    },
    {
     "name": "stdout",
     "output_type": "stream",
     "text": [
      "[ Valid | 023/050 ] loss = 0.19443, acc = 0.96985\n"
     ]
    },
    {
     "name": "stderr",
     "output_type": "stream",
     "text": [
      "100%|██████████| 164/164 [01:59<00:00,  1.37it/s]\n"
     ]
    },
    {
     "name": "stdout",
     "output_type": "stream",
     "text": [
      "第23个epoch的学习率：0.000100\n",
      "[ Train | 024/050 ] loss = 1.19601, acc = 0.71064\n"
     ]
    },
    {
     "name": "stderr",
     "output_type": "stream",
     "text": [
      "100%|██████████| 41/41 [00:11<00:00,  3.64it/s]\n"
     ]
    },
    {
     "name": "stdout",
     "output_type": "stream",
     "text": [
      "[ Valid | 024/050 ] loss = 0.22545, acc = 0.97215\n",
      "saving model with acc 0.972\n"
     ]
    },
    {
     "name": "stderr",
     "output_type": "stream",
     "text": [
      "100%|██████████| 164/164 [01:59<00:00,  1.37it/s]\n"
     ]
    },
    {
     "name": "stdout",
     "output_type": "stream",
     "text": [
      "第24个epoch的学习率：0.000100\n",
      "[ Train | 025/050 ] loss = 1.21545, acc = 0.69247\n"
     ]
    },
    {
     "name": "stderr",
     "output_type": "stream",
     "text": [
      "100%|██████████| 41/41 [00:11<00:00,  3.59it/s]\n"
     ]
    },
    {
     "name": "stdout",
     "output_type": "stream",
     "text": [
      "[ Valid | 025/050 ] loss = 0.23651, acc = 0.97039\n"
     ]
    },
    {
     "name": "stderr",
     "output_type": "stream",
     "text": [
      "100%|██████████| 164/164 [01:59<00:00,  1.37it/s]\n"
     ]
    },
    {
     "name": "stdout",
     "output_type": "stream",
     "text": [
      "第25个epoch的学习率：0.000100\n",
      "[ Train | 026/050 ] loss = 1.20804, acc = 0.65858\n"
     ]
    },
    {
     "name": "stderr",
     "output_type": "stream",
     "text": [
      "100%|██████████| 41/41 [00:11<00:00,  3.54it/s]\n"
     ]
    },
    {
     "name": "stdout",
     "output_type": "stream",
     "text": [
      "[ Valid | 026/050 ] loss = 0.17203, acc = 0.97527\n",
      "saving model with acc 0.975\n"
     ]
    },
    {
     "name": "stderr",
     "output_type": "stream",
     "text": [
      "100%|██████████| 164/164 [01:59<00:00,  1.37it/s]\n"
     ]
    },
    {
     "name": "stdout",
     "output_type": "stream",
     "text": [
      "第26个epoch的学习率：0.000100\n",
      "Epoch 00027: reducing learning rate of group 0 to 5.0000e-05.\n",
      "Epoch 00027: reducing learning rate of group 1 to 5.0000e-04.\n",
      "[ Train | 027/050 ] loss = 1.20289, acc = 0.66176\n"
     ]
    },
    {
     "name": "stderr",
     "output_type": "stream",
     "text": [
      "100%|██████████| 41/41 [00:12<00:00,  3.40it/s]\n"
     ]
    },
    {
     "name": "stdout",
     "output_type": "stream",
     "text": [
      "[ Valid | 027/050 ] loss = 0.20900, acc = 0.96985\n"
     ]
    },
    {
     "name": "stderr",
     "output_type": "stream",
     "text": [
      "100%|██████████| 164/164 [01:59<00:00,  1.37it/s]\n"
     ]
    },
    {
     "name": "stdout",
     "output_type": "stream",
     "text": [
      "第27个epoch的学习率：0.000050\n",
      "[ Train | 028/050 ] loss = 1.12621, acc = 0.69566\n"
     ]
    },
    {
     "name": "stderr",
     "output_type": "stream",
     "text": [
      "100%|██████████| 41/41 [00:12<00:00,  3.42it/s]\n"
     ]
    },
    {
     "name": "stdout",
     "output_type": "stream",
     "text": [
      "[ Valid | 028/050 ] loss = 0.19108, acc = 0.97812\n",
      "saving model with acc 0.978\n"
     ]
    },
    {
     "name": "stderr",
     "output_type": "stream",
     "text": [
      "100%|██████████| 164/164 [01:59<00:00,  1.37it/s]\n"
     ]
    },
    {
     "name": "stdout",
     "output_type": "stream",
     "text": [
      "第28个epoch的学习率：0.000050\n",
      "[ Train | 029/050 ] loss = 1.07554, acc = 0.70538\n"
     ]
    },
    {
     "name": "stderr",
     "output_type": "stream",
     "text": [
      "100%|██████████| 41/41 [00:11<00:00,  3.59it/s]\n"
     ]
    },
    {
     "name": "stdout",
     "output_type": "stream",
     "text": [
      "[ Valid | 029/050 ] loss = 0.16562, acc = 0.97696\n"
     ]
    },
    {
     "name": "stderr",
     "output_type": "stream",
     "text": [
      "100%|██████████| 164/164 [01:59<00:00,  1.37it/s]\n"
     ]
    },
    {
     "name": "stdout",
     "output_type": "stream",
     "text": [
      "第29个epoch的学习率：0.000050\n",
      "[ Train | 030/050 ] loss = 1.09865, acc = 0.67682\n"
     ]
    },
    {
     "name": "stderr",
     "output_type": "stream",
     "text": [
      "100%|██████████| 41/41 [00:11<00:00,  3.60it/s]\n"
     ]
    },
    {
     "name": "stdout",
     "output_type": "stream",
     "text": [
      "[ Valid | 030/050 ] loss = 0.14329, acc = 0.97778\n"
     ]
    },
    {
     "name": "stderr",
     "output_type": "stream",
     "text": [
      "100%|██████████| 164/164 [01:59<00:00,  1.37it/s]\n"
     ]
    },
    {
     "name": "stdout",
     "output_type": "stream",
     "text": [
      "第30个epoch的学习率：0.000050\n",
      "[ Train | 031/050 ] loss = 1.06091, acc = 0.70907\n"
     ]
    },
    {
     "name": "stderr",
     "output_type": "stream",
     "text": [
      "100%|██████████| 41/41 [00:11<00:00,  3.59it/s]\n"
     ]
    },
    {
     "name": "stdout",
     "output_type": "stream",
     "text": [
      "[ Valid | 031/050 ] loss = 0.13130, acc = 0.97581\n"
     ]
    },
    {
     "name": "stderr",
     "output_type": "stream",
     "text": [
      "100%|██████████| 164/164 [01:59<00:00,  1.37it/s]\n"
     ]
    },
    {
     "name": "stdout",
     "output_type": "stream",
     "text": [
      "第31个epoch的学习率：0.000050\n",
      "[ Train | 032/050 ] loss = 1.07273, acc = 0.70000\n"
     ]
    },
    {
     "name": "stderr",
     "output_type": "stream",
     "text": [
      "100%|██████████| 41/41 [00:11<00:00,  3.57it/s]\n"
     ]
    },
    {
     "name": "stdout",
     "output_type": "stream",
     "text": [
      "[ Valid | 032/050 ] loss = 0.14984, acc = 0.97818\n",
      "saving model with acc 0.978\n"
     ]
    },
    {
     "name": "stderr",
     "output_type": "stream",
     "text": [
      "100%|██████████| 164/164 [01:59<00:00,  1.37it/s]\n"
     ]
    },
    {
     "name": "stdout",
     "output_type": "stream",
     "text": [
      "第32个epoch的学习率：0.000050\n",
      "[ Train | 033/050 ] loss = 1.06402, acc = 0.67774\n"
     ]
    },
    {
     "name": "stderr",
     "output_type": "stream",
     "text": [
      "100%|██████████| 41/41 [00:11<00:00,  3.54it/s]\n"
     ]
    },
    {
     "name": "stdout",
     "output_type": "stream",
     "text": [
      "[ Valid | 033/050 ] loss = 0.17715, acc = 0.97541\n"
     ]
    },
    {
     "name": "stderr",
     "output_type": "stream",
     "text": [
      "100%|██████████| 164/164 [02:00<00:00,  1.36it/s]\n"
     ]
    },
    {
     "name": "stdout",
     "output_type": "stream",
     "text": [
      "第33个epoch的学习率：0.000050\n",
      "[ Train | 034/050 ] loss = 1.01244, acc = 0.72794\n"
     ]
    },
    {
     "name": "stderr",
     "output_type": "stream",
     "text": [
      "100%|██████████| 41/41 [00:11<00:00,  3.47it/s]\n"
     ]
    },
    {
     "name": "stdout",
     "output_type": "stream",
     "text": [
      "[ Valid | 034/050 ] loss = 0.15580, acc = 0.97852\n",
      "saving model with acc 0.979\n"
     ]
    },
    {
     "name": "stderr",
     "output_type": "stream",
     "text": [
      "100%|██████████| 164/164 [01:59<00:00,  1.37it/s]\n"
     ]
    },
    {
     "name": "stdout",
     "output_type": "stream",
     "text": [
      "第34个epoch的学习率：0.000050\n",
      "[ Train | 035/050 ] loss = 1.01829, acc = 0.70076\n"
     ]
    },
    {
     "name": "stderr",
     "output_type": "stream",
     "text": [
      "100%|██████████| 41/41 [00:11<00:00,  3.48it/s]\n"
     ]
    },
    {
     "name": "stdout",
     "output_type": "stream",
     "text": [
      "[ Valid | 035/050 ] loss = 0.14755, acc = 0.97900\n",
      "saving model with acc 0.979\n"
     ]
    },
    {
     "name": "stderr",
     "output_type": "stream",
     "text": [
      "100%|██████████| 164/164 [01:59<00:00,  1.37it/s]\n"
     ]
    },
    {
     "name": "stdout",
     "output_type": "stream",
     "text": [
      "第35个epoch的学习率：0.000050\n",
      "[ Train | 036/050 ] loss = 1.02021, acc = 0.70825\n"
     ]
    },
    {
     "name": "stderr",
     "output_type": "stream",
     "text": [
      "100%|██████████| 41/41 [00:11<00:00,  3.64it/s]\n"
     ]
    },
    {
     "name": "stdout",
     "output_type": "stream",
     "text": [
      "[ Valid | 036/050 ] loss = 0.16888, acc = 0.97615\n"
     ]
    },
    {
     "name": "stderr",
     "output_type": "stream",
     "text": [
      "100%|██████████| 164/164 [01:59<00:00,  1.37it/s]\n"
     ]
    },
    {
     "name": "stdout",
     "output_type": "stream",
     "text": [
      "第36个epoch的学习率：0.000050\n",
      "[ Train | 037/050 ] loss = 0.99680, acc = 0.70668\n"
     ]
    },
    {
     "name": "stderr",
     "output_type": "stream",
     "text": [
      "100%|██████████| 41/41 [00:11<00:00,  3.64it/s]\n"
     ]
    },
    {
     "name": "stdout",
     "output_type": "stream",
     "text": [
      "[ Valid | 037/050 ] loss = 0.15977, acc = 0.97879\n"
     ]
    },
    {
     "name": "stderr",
     "output_type": "stream",
     "text": [
      "100%|██████████| 164/164 [01:59<00:00,  1.37it/s]\n"
     ]
    },
    {
     "name": "stdout",
     "output_type": "stream",
     "text": [
      "第37个epoch的学习率：0.000050\n",
      "[ Train | 038/050 ] loss = 0.94313, acc = 0.76389\n"
     ]
    },
    {
     "name": "stderr",
     "output_type": "stream",
     "text": [
      "100%|██████████| 41/41 [00:11<00:00,  3.64it/s]\n"
     ]
    },
    {
     "name": "stdout",
     "output_type": "stream",
     "text": [
      "[ Valid | 038/050 ] loss = 0.13315, acc = 0.97859\n"
     ]
    },
    {
     "name": "stderr",
     "output_type": "stream",
     "text": [
      "100%|██████████| 164/164 [01:59<00:00,  1.37it/s]\n"
     ]
    },
    {
     "name": "stdout",
     "output_type": "stream",
     "text": [
      "第38个epoch的学习率：0.000050\n",
      "[ Train | 039/050 ] loss = 1.01815, acc = 0.71923\n"
     ]
    },
    {
     "name": "stderr",
     "output_type": "stream",
     "text": [
      "100%|██████████| 41/41 [00:11<00:00,  3.65it/s]\n"
     ]
    },
    {
     "name": "stdout",
     "output_type": "stream",
     "text": [
      "[ Valid | 039/050 ] loss = 0.15135, acc = 0.97710\n"
     ]
    },
    {
     "name": "stderr",
     "output_type": "stream",
     "text": [
      "100%|██████████| 164/164 [02:00<00:00,  1.37it/s]\n"
     ]
    },
    {
     "name": "stdout",
     "output_type": "stream",
     "text": [
      "第39个epoch的学习率：0.000050\n",
      "[ Train | 040/050 ] loss = 1.03316, acc = 0.69171\n"
     ]
    },
    {
     "name": "stderr",
     "output_type": "stream",
     "text": [
      "100%|██████████| 41/41 [00:11<00:00,  3.65it/s]\n"
     ]
    },
    {
     "name": "stdout",
     "output_type": "stream",
     "text": [
      "[ Valid | 040/050 ] loss = 0.14354, acc = 0.97480\n"
     ]
    },
    {
     "name": "stderr",
     "output_type": "stream",
     "text": [
      "100%|██████████| 164/164 [01:59<00:00,  1.37it/s]\n"
     ]
    },
    {
     "name": "stdout",
     "output_type": "stream",
     "text": [
      "第40个epoch的学习率：0.000050\n",
      "[ Train | 041/050 ] loss = 0.99770, acc = 0.69806\n"
     ]
    },
    {
     "name": "stderr",
     "output_type": "stream",
     "text": [
      "100%|██████████| 41/41 [00:11<00:00,  3.43it/s]\n"
     ]
    },
    {
     "name": "stdout",
     "output_type": "stream",
     "text": [
      "[ Valid | 041/050 ] loss = 0.14354, acc = 0.97737\n"
     ]
    },
    {
     "name": "stderr",
     "output_type": "stream",
     "text": [
      "100%|██████████| 164/164 [01:59<00:00,  1.37it/s]\n"
     ]
    },
    {
     "name": "stdout",
     "output_type": "stream",
     "text": [
      "第41个epoch的学习率：0.000050\n",
      "Epoch 00042: reducing learning rate of group 0 to 2.5000e-05.\n",
      "Epoch 00042: reducing learning rate of group 1 to 2.5000e-04.\n",
      "[ Train | 042/050 ] loss = 1.00233, acc = 0.69835\n"
     ]
    },
    {
     "name": "stderr",
     "output_type": "stream",
     "text": [
      "100%|██████████| 41/41 [00:11<00:00,  3.45it/s]\n"
     ]
    },
    {
     "name": "stdout",
     "output_type": "stream",
     "text": [
      "[ Valid | 042/050 ] loss = 0.13201, acc = 0.97649\n"
     ]
    },
    {
     "name": "stderr",
     "output_type": "stream",
     "text": [
      "100%|██████████| 164/164 [01:59<00:00,  1.37it/s]\n"
     ]
    },
    {
     "name": "stdout",
     "output_type": "stream",
     "text": [
      "第42个epoch的学习率：0.000025\n",
      "[ Train | 043/050 ] loss = 0.95139, acc = 0.73570\n"
     ]
    },
    {
     "name": "stderr",
     "output_type": "stream",
     "text": [
      "100%|██████████| 41/41 [00:11<00:00,  3.46it/s]\n"
     ]
    },
    {
     "name": "stdout",
     "output_type": "stream",
     "text": [
      "[ Valid | 043/050 ] loss = 0.13183, acc = 0.98042\n",
      "saving model with acc 0.980\n"
     ]
    },
    {
     "name": "stderr",
     "output_type": "stream",
     "text": [
      "100%|██████████| 164/164 [01:59<00:00,  1.37it/s]\n"
     ]
    },
    {
     "name": "stdout",
     "output_type": "stream",
     "text": [
      "第43个epoch的学习率：0.000025\n",
      "[ Train | 044/050 ] loss = 0.94496, acc = 0.72717\n"
     ]
    },
    {
     "name": "stderr",
     "output_type": "stream",
     "text": [
      "100%|██████████| 41/41 [00:11<00:00,  3.62it/s]\n"
     ]
    },
    {
     "name": "stdout",
     "output_type": "stream",
     "text": [
      "[ Valid | 044/050 ] loss = 0.12924, acc = 0.97961\n"
     ]
    },
    {
     "name": "stderr",
     "output_type": "stream",
     "text": [
      "100%|██████████| 164/164 [01:59<00:00,  1.37it/s]\n"
     ]
    },
    {
     "name": "stdout",
     "output_type": "stream",
     "text": [
      "第44个epoch的学习率：0.000025\n",
      "[ Train | 045/050 ] loss = 0.97122, acc = 0.68400\n"
     ]
    },
    {
     "name": "stderr",
     "output_type": "stream",
     "text": [
      "100%|██████████| 41/41 [00:11<00:00,  3.63it/s]\n"
     ]
    },
    {
     "name": "stdout",
     "output_type": "stream",
     "text": [
      "[ Valid | 045/050 ] loss = 0.14738, acc = 0.97710\n"
     ]
    },
    {
     "name": "stderr",
     "output_type": "stream",
     "text": [
      "100%|██████████| 164/164 [01:59<00:00,  1.37it/s]\n"
     ]
    },
    {
     "name": "stdout",
     "output_type": "stream",
     "text": [
      "第45个epoch的学习率：0.000025\n",
      "Epoch 00046: reducing learning rate of group 0 to 1.2500e-05.\n",
      "Epoch 00046: reducing learning rate of group 1 to 1.2500e-04.\n",
      "[ Train | 046/050 ] loss = 0.94829, acc = 0.72562\n"
     ]
    },
    {
     "name": "stderr",
     "output_type": "stream",
     "text": [
      "100%|██████████| 41/41 [00:11<00:00,  3.53it/s]\n"
     ]
    },
    {
     "name": "stdout",
     "output_type": "stream",
     "text": [
      "[ Valid | 046/050 ] loss = 0.14681, acc = 0.97696\n"
     ]
    },
    {
     "name": "stderr",
     "output_type": "stream",
     "text": [
      "100%|██████████| 164/164 [01:59<00:00,  1.37it/s]\n"
     ]
    },
    {
     "name": "stdout",
     "output_type": "stream",
     "text": [
      "第46个epoch的学习率：0.000013\n",
      "[ Train | 047/050 ] loss = 0.92732, acc = 0.72150\n"
     ]
    },
    {
     "name": "stderr",
     "output_type": "stream",
     "text": [
      "100%|██████████| 41/41 [00:11<00:00,  3.64it/s]\n"
     ]
    },
    {
     "name": "stdout",
     "output_type": "stream",
     "text": [
      "[ Valid | 047/050 ] loss = 0.12840, acc = 0.97832\n"
     ]
    },
    {
     "name": "stderr",
     "output_type": "stream",
     "text": [
      "100%|██████████| 164/164 [01:59<00:00,  1.37it/s]\n"
     ]
    },
    {
     "name": "stdout",
     "output_type": "stream",
     "text": [
      "第47个epoch的学习率：0.000013\n",
      "[ Train | 048/050 ] loss = 0.92705, acc = 0.72597\n"
     ]
    },
    {
     "name": "stderr",
     "output_type": "stream",
     "text": [
      "100%|██████████| 41/41 [00:11<00:00,  3.61it/s]\n"
     ]
    },
    {
     "name": "stdout",
     "output_type": "stream",
     "text": [
      "[ Valid | 048/050 ] loss = 0.12661, acc = 0.97940\n"
     ]
    },
    {
     "name": "stderr",
     "output_type": "stream",
     "text": [
      "100%|██████████| 164/164 [02:00<00:00,  1.36it/s]\n"
     ]
    },
    {
     "name": "stdout",
     "output_type": "stream",
     "text": [
      "第48个epoch的学习率：0.000013\n",
      "[ Train | 049/050 ] loss = 0.88551, acc = 0.74913\n"
     ]
    },
    {
     "name": "stderr",
     "output_type": "stream",
     "text": [
      "100%|██████████| 41/41 [00:11<00:00,  3.43it/s]\n"
     ]
    },
    {
     "name": "stdout",
     "output_type": "stream",
     "text": [
      "[ Valid | 049/050 ] loss = 0.13409, acc = 0.97798\n"
     ]
    },
    {
     "name": "stderr",
     "output_type": "stream",
     "text": [
      "100%|██████████| 164/164 [02:00<00:00,  1.37it/s]\n"
     ]
    },
    {
     "name": "stdout",
     "output_type": "stream",
     "text": [
      "第49个epoch的学习率：0.000013\n",
      "[ Train | 050/050 ] loss = 0.93081, acc = 0.69088\n"
     ]
    },
    {
     "name": "stderr",
     "output_type": "stream",
     "text": [
      "100%|██████████| 41/41 [00:11<00:00,  3.44it/s]"
     ]
    },
    {
     "name": "stdout",
     "output_type": "stream",
     "text": [
      "[ Valid | 050/050 ] loss = 0.12873, acc = 0.97873\n"
     ]
    },
    {
     "name": "stderr",
     "output_type": "stream",
     "text": [
      "\n"
     ]
    }
   ],
   "source": [
    "\n",
    "train_2(model_1)\n",
    "# model_1.load_state_dict(torch.load(model_path)) #加载训练结果\n",
    "# train_2(model_2)\n",
    "# model_2.load_state_dict(torch.load(model_path))\n",
    "# train_2(model_3)\n",
    "# model_3.load_state_dict(torch.load(model_path))"
   ]
  },
  {
   "cell_type": "code",
   "execution_count": null,
   "metadata": {},
   "outputs": [],
   "source": []
  },
  {
   "cell_type": "code",
   "execution_count": null,
   "metadata": {},
   "outputs": [],
   "source": []
  }
 ],
 "metadata": {
  "kernelspec": {
   "display_name": "Python 3 (ipykernel)",
   "language": "python",
   "name": "python3"
  },
  "language_info": {
   "codemirror_mode": {
    "name": "ipython",
    "version": 3
   },
   "file_extension": ".py",
   "mimetype": "text/x-python",
   "name": "python",
   "nbconvert_exporter": "python",
   "pygments_lexer": "ipython3",
   "version": "3.8.12"
  }
 },
 "nbformat": 4,
 "nbformat_minor": 4
}
